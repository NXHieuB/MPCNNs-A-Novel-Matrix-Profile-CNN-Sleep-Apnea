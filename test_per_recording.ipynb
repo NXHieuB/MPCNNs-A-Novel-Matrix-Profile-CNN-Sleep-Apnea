{
 "cells": [
  {
   "cell_type": "code",
   "execution_count": 3,
   "id": "1608f3d3",
   "metadata": {
    "executionInfo": {
     "elapsed": 6877,
     "status": "ok",
     "timestamp": 1693296068656,
     "user": {
      "displayName": "Hiếu Nguyễn Xuân",
      "userId": "09184859202144170734"
     },
     "user_tz": -420
    },
    "id": "1608f3d3"
   },
   "outputs": [],
   "source": [
    "import os\n",
    "\n",
    "import numpy as np\n",
    "import pandas as pd\n",
    "from sklearn.metrics import confusion_matrix, roc_auc_score\n",
    "\n",
    "base_dir = \"output\"\n",
    "\n",
    "# Table 2\n",
    "output = []\n",
    "#methods = [\"min_1\",\"min_2\",\"min_3\",\"min_4\",\"max_1\",\"max_2\",\"max_3\",\"max_4\",\"mean_1\",\"mean_2\",\"mean_3\",\"mean_4\",\"max_mean_1\",\"max_mean_2\",\"max_mean_4\",\"min_max_1\",\"min_max_2\",\"min_max_3\",\"min_max_4\",\"min_max_5\",\"min_mean_1\",\"min_mean_2\",\"min_mean_3\",\"min_max_mean_1\",\"min_max_mean_2\",\"min_max_mean_3\",\"min_max_mean_4\"]\n",
    "#methods = [\"min_mean_1\",\"min_mean_2\",\"min_mean_3\",\"min_mean_4\",\"min_mean_5\",\"min_mean_6\",\"min_max_1\",\"min_max_2\"]\n",
    "methods = [\"t1_1\",\"t1_2\",\"t1_3\",\"t1_4\",\"t2_1\",\"t2_2\",\"t2_3\",\"t2_4\",\"t3_1\",\"t3_2\",\"t3_3\",\"t3_4\"]\n",
    "for method in methods:\n",
    "    df = pd.read_csv(os.path.join(base_dir, \"%s.csv\" % method), header=0)\n",
    "    df[\"y_pred\"] = df[\"y_score\"] > 0.5\n",
    "    df = df.groupby(by=\"subject\").apply(lambda d: d[\"y_pred\"].mean() * 60)\n",
    "    df.name = method\n",
    "    output.append(df)\n",
    "output = pd.concat(output, axis=1)\n",
    "with open(\"dataset/additional-information.txt\", \"r\") as f:\n",
    "    original = []\n",
    "    for line in f:\n",
    "        rows = line.strip().split(\"\\t\")\n",
    "        if len(rows) == 12:\n",
    "            if rows[0].startswith(\"x\"):\n",
    "                original.append([rows[0], float(rows[3]) / float(rows[1]) * 60])\n",
    "original = pd.DataFrame(original, columns=[\"subject\", \"original\"])\n",
    "original = original.set_index(\"subject\")\n",
    "all = pd.concat((output, original), axis=1)\n",
    "corr = all.corr()\n",
    "all1 = all.applymap(lambda a: int(a > 5))\n",
    "result = []\n",
    "for method in methods:\n",
    "    C = confusion_matrix(all1[\"original\"], all1[method], labels=(1, 0))\n",
    "    TP, TN, FP, FN = C[0, 0], C[1, 1], C[1, 0], C[0, 1]\n",
    "    acc, sn, sp = 1. * (TP + TN) / (TP + TN + FP + FN), 1. * TP / (TP + FN), 1. * TN / (TN + FP)\n",
    "    auc = roc_auc_score(all[\"original\"] > 5, all[method])\n",
    "    result.append([method, acc * 100, sn * 100, sp * 100, auc, corr[\"original\"][method]])\n",
    "np.savetxt(os.path.join(base_dir, \"Table 3.csv\"), result, fmt=\"%s\", delimiter=\",\", comments=\"\",\n",
    "           header=\"Method,Accuracy(%),Sensitivity(%),Specificity(%),AUC,Corr\")"
   ]
  },
  {
   "cell_type": "code",
   "execution_count": 2,
   "id": "e8BAAvM8NMBq",
   "metadata": {
    "colab": {
     "base_uri": "https://localhost:8080/"
    },
    "executionInfo": {
     "elapsed": 15528,
     "status": "ok",
     "timestamp": 1693295980022,
     "user": {
      "displayName": "Hiếu Nguyễn Xuân",
      "userId": "09184859202144170734"
     },
     "user_tz": -420
    },
    "id": "e8BAAvM8NMBq",
    "outputId": "f15f48c8-c1d7-43c2-b6e8-c5b7b9315578"
   },
   "outputs": [
    {
     "name": "stdout",
     "output_type": "stream",
     "text": [
      "Mounted at /content/drive\n"
     ]
    }
   ],
   "source": [
    "from google.colab import drive\n",
    "drive.mount('/content/drive')"
   ]
  },
  {
   "cell_type": "code",
   "execution_count": null,
   "id": "b650f477",
   "metadata": {
    "id": "b650f477"
   },
   "outputs": [],
   "source": []
  }
 ],
 "metadata": {
  "colab": {
   "provenance": []
  },
  "kernelspec": {
   "display_name": "Python 3 (ipykernel)",
   "language": "python",
   "name": "python3"
  },
  "language_info": {
   "codemirror_mode": {
    "name": "ipython",
    "version": 3
   },
   "file_extension": ".py",
   "mimetype": "text/x-python",
   "name": "python",
   "nbconvert_exporter": "python",
   "pygments_lexer": "ipython3",
   "version": "3.9.17"
  }
 },
 "nbformat": 4,
 "nbformat_minor": 5
}
